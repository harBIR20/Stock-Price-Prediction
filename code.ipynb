{
 "cells": [
  {
   "cell_type": "code",
   "execution_count": 2,
   "id": "3e5bdc7e",
   "metadata": {},
   "outputs": [],
   "source": [
    "import pandas as pd\n",
    "import numpy as np\n",
    "import matplotlib.pyplot as plt\n",
    "import yfinance as yf"
   ]
  },
  {
   "cell_type": "code",
   "execution_count": 3,
   "id": "369e446c",
   "metadata": {},
   "outputs": [
    {
     "name": "stderr",
     "output_type": "stream",
     "text": [
      "C:\\Users\\DELL\\AppData\\Local\\Temp\\ipykernel_12708\\802315313.py:6: FutureWarning: YF.download() has changed argument auto_adjust default to True\n",
      "  data = yf.download(stock, start, end)\n",
      "[*********************100%***********************]  1 of 1 completed\n"
     ]
    }
   ],
   "source": [
    "start = '2012-01-01'\n",
    "end = '2022-12-21'\n",
    "\n",
    "stock = 'GOOG'\n",
    "\n",
    "data = yf.download(stock, start, end)"
   ]
  },
  {
   "cell_type": "code",
   "execution_count": 4,
   "id": "9f693da3",
   "metadata": {},
   "outputs": [
    {
     "data": {
      "application/vnd.microsoft.datawrangler.viewer.v0+json": {
       "columns": [
        {
         "name": "Date",
         "rawType": "datetime64[ns]",
         "type": "datetime"
        },
        {
         "name": "('Close', 'GOOG')",
         "rawType": "float64",
         "type": "float"
        },
        {
         "name": "('High', 'GOOG')",
         "rawType": "float64",
         "type": "float"
        },
        {
         "name": "('Low', 'GOOG')",
         "rawType": "float64",
         "type": "float"
        },
        {
         "name": "('Open', 'GOOG')",
         "rawType": "float64",
         "type": "float"
        },
        {
         "name": "('Volume', 'GOOG')",
         "rawType": "int64",
         "type": "integer"
        }
       ],
       "ref": "65458edb-19f2-4b0c-bf2f-37931a967378",
       "rows": [
        [
         "2012-01-03 00:00:00",
         "16.47519874572754",
         "16.543040419320185",
         "16.152334570787474",
         "16.16644897599216",
         "147611217"
        ],
        [
         "2012-01-04 00:00:00",
         "16.5462589263916",
         "16.59503553746347",
         "16.356601810781317",
         "16.465791264689795",
         "114989399"
        ],
        [
         "2012-01-05 00:00:00",
         "16.31673812866211",
         "16.439545212005743",
         "16.24790670098003",
         "16.39398814316884",
         "131808205"
        ],
        [
         "2012-01-06 00:00:00",
         "16.09415054321289",
         "16.341249319296477",
         "16.088454725015094",
         "16.320202853918467",
         "108119746"
        ],
        [
         "2012-01-09 00:00:00",
         "15.411779403686523",
         "16.019377617114415",
         "15.381324597931869",
         "16.006996227400936",
         "233776981"
        ]
       ],
       "shape": {
        "columns": 5,
        "rows": 5
       }
      },
      "text/html": [
       "<div>\n",
       "<style scoped>\n",
       "    .dataframe tbody tr th:only-of-type {\n",
       "        vertical-align: middle;\n",
       "    }\n",
       "\n",
       "    .dataframe tbody tr th {\n",
       "        vertical-align: top;\n",
       "    }\n",
       "\n",
       "    .dataframe thead tr th {\n",
       "        text-align: left;\n",
       "    }\n",
       "\n",
       "    .dataframe thead tr:last-of-type th {\n",
       "        text-align: right;\n",
       "    }\n",
       "</style>\n",
       "<table border=\"1\" class=\"dataframe\">\n",
       "  <thead>\n",
       "    <tr>\n",
       "      <th>Price</th>\n",
       "      <th>Close</th>\n",
       "      <th>High</th>\n",
       "      <th>Low</th>\n",
       "      <th>Open</th>\n",
       "      <th>Volume</th>\n",
       "    </tr>\n",
       "    <tr>\n",
       "      <th>Ticker</th>\n",
       "      <th>GOOG</th>\n",
       "      <th>GOOG</th>\n",
       "      <th>GOOG</th>\n",
       "      <th>GOOG</th>\n",
       "      <th>GOOG</th>\n",
       "    </tr>\n",
       "    <tr>\n",
       "      <th>Date</th>\n",
       "      <th></th>\n",
       "      <th></th>\n",
       "      <th></th>\n",
       "      <th></th>\n",
       "      <th></th>\n",
       "    </tr>\n",
       "  </thead>\n",
       "  <tbody>\n",
       "    <tr>\n",
       "      <th>2012-01-03</th>\n",
       "      <td>16.475199</td>\n",
       "      <td>16.543040</td>\n",
       "      <td>16.152335</td>\n",
       "      <td>16.166449</td>\n",
       "      <td>147611217</td>\n",
       "    </tr>\n",
       "    <tr>\n",
       "      <th>2012-01-04</th>\n",
       "      <td>16.546259</td>\n",
       "      <td>16.595036</td>\n",
       "      <td>16.356602</td>\n",
       "      <td>16.465791</td>\n",
       "      <td>114989399</td>\n",
       "    </tr>\n",
       "    <tr>\n",
       "      <th>2012-01-05</th>\n",
       "      <td>16.316738</td>\n",
       "      <td>16.439545</td>\n",
       "      <td>16.247907</td>\n",
       "      <td>16.393988</td>\n",
       "      <td>131808205</td>\n",
       "    </tr>\n",
       "    <tr>\n",
       "      <th>2012-01-06</th>\n",
       "      <td>16.094151</td>\n",
       "      <td>16.341249</td>\n",
       "      <td>16.088455</td>\n",
       "      <td>16.320203</td>\n",
       "      <td>108119746</td>\n",
       "    </tr>\n",
       "    <tr>\n",
       "      <th>2012-01-09</th>\n",
       "      <td>15.411779</td>\n",
       "      <td>16.019378</td>\n",
       "      <td>15.381325</td>\n",
       "      <td>16.006996</td>\n",
       "      <td>233776981</td>\n",
       "    </tr>\n",
       "  </tbody>\n",
       "</table>\n",
       "</div>"
      ],
      "text/plain": [
       "Price           Close       High        Low       Open     Volume\n",
       "Ticker           GOOG       GOOG       GOOG       GOOG       GOOG\n",
       "Date                                                             \n",
       "2012-01-03  16.475199  16.543040  16.152335  16.166449  147611217\n",
       "2012-01-04  16.546259  16.595036  16.356602  16.465791  114989399\n",
       "2012-01-05  16.316738  16.439545  16.247907  16.393988  131808205\n",
       "2012-01-06  16.094151  16.341249  16.088455  16.320203  108119746\n",
       "2012-01-09  15.411779  16.019378  15.381325  16.006996  233776981"
      ]
     },
     "execution_count": 4,
     "metadata": {},
     "output_type": "execute_result"
    }
   ],
   "source": [
    "data.head()"
   ]
  },
  {
   "cell_type": "code",
   "execution_count": 5,
   "id": "0ffed058",
   "metadata": {},
   "outputs": [],
   "source": [
    "data.reset_index(inplace=True)"
   ]
  },
  {
   "cell_type": "code",
   "execution_count": 6,
   "id": "cba439ed",
   "metadata": {},
   "outputs": [
    {
     "data": {
      "application/vnd.microsoft.datawrangler.viewer.v0+json": {
       "columns": [
        {
         "name": "index",
         "rawType": "int64",
         "type": "integer"
        },
        {
         "name": "('Date', '')",
         "rawType": "datetime64[ns]",
         "type": "datetime"
        },
        {
         "name": "('Close', 'GOOG')",
         "rawType": "float64",
         "type": "float"
        },
        {
         "name": "('High', 'GOOG')",
         "rawType": "float64",
         "type": "float"
        },
        {
         "name": "('Low', 'GOOG')",
         "rawType": "float64",
         "type": "float"
        },
        {
         "name": "('Open', 'GOOG')",
         "rawType": "float64",
         "type": "float"
        },
        {
         "name": "('Volume', 'GOOG')",
         "rawType": "int64",
         "type": "integer"
        }
       ],
       "ref": "d0c90e64-c44d-40ae-a842-40827ca660ba",
       "rows": [
        [
         "0",
         "2012-01-03 00:00:00",
         "16.47519874572754",
         "16.543040419320185",
         "16.152334570787474",
         "16.16644897599216",
         "147611217"
        ],
        [
         "1",
         "2012-01-04 00:00:00",
         "16.5462589263916",
         "16.59503553746347",
         "16.356601810781317",
         "16.465791264689795",
         "114989399"
        ],
        [
         "2",
         "2012-01-05 00:00:00",
         "16.31673812866211",
         "16.439545212005743",
         "16.24790670098003",
         "16.39398814316884",
         "131808205"
        ],
        [
         "3",
         "2012-01-06 00:00:00",
         "16.09415054321289",
         "16.341249319296477",
         "16.088454725015094",
         "16.320202853918467",
         "108119746"
        ],
        [
         "4",
         "2012-01-09 00:00:00",
         "15.411779403686523",
         "16.019377617114415",
         "15.381324597931869",
         "16.006996227400936",
         "233776981"
        ],
        [
         "5",
         "2012-01-10 00:00:00",
         "15.42861557006836",
         "15.692552478742241",
         "15.2743648805076",
         "15.592276494991154",
         "176483032"
        ],
        [
         "6",
         "2012-01-11 00:00:00",
         "15.49843692779541",
         "15.58336225944322",
         "15.378601008822317",
         "15.437528267576871",
         "96359832"
        ],
        [
         "7",
         "2012-01-12 00:00:00",
         "15.58955192565918",
         "15.670021478589673",
         "15.511807036903074",
         "15.628672756263288",
         "75289148"
        ],
        [
         "8",
         "2012-01-13 00:00:00",
         "15.474421501159668",
         "15.522949724268422",
         "15.377116668709947",
         "15.505866060510906",
         "92637933"
        ],
        [
         "9",
         "2012-01-17 00:00:00",
         "15.56330680847168",
         "15.647489827296054",
         "15.49150423091027",
         "15.647489827296054",
         "76658261"
        ],
        [
         "10",
         "2012-01-18 00:00:00",
         "15.670516967773438",
         "15.69750384787826",
         "15.403361454537349",
         "15.51502718418066",
         "110882061"
        ],
        [
         "11",
         "2012-01-19 00:00:00",
         "15.835412979125977",
         "15.870571953411282",
         "15.634613579123295",
         "15.870571953411282",
         "253157352"
        ],
        [
         "12",
         "2012-01-20 00:00:00",
         "14.508801460266113",
         "14.632845729534939",
         "14.402584116697026",
         "14.621209498624568",
         "424637703"
        ],
        [
         "13",
         "2012-01-23 00:00:00",
         "14.497164726257324",
         "14.574909616376516",
         "14.438732339572248",
         "14.509049343755242",
         "137027695"
        ],
        [
         "14",
         "2012-01-24 00:00:00",
         "14.38351821899414",
         "14.55064421569129",
         "14.310972381438923",
         "14.516970819751249",
         "122690156"
        ],
        [
         "15",
         "2012-01-25 00:00:00",
         "14.10027027130127",
         "14.328552373502333",
         "14.023267699862293",
         "14.298840831341892",
         "200255805"
        ],
        [
         "16",
         "2012-01-26 00:00:00",
         "14.0658540725708",
         "14.223820127554403",
         "13.97795853017778",
         "14.161921711384256",
         "129531704"
        ],
        [
         "17",
         "2012-01-27 00:00:00",
         "14.359996795654297",
         "14.36841538186677",
         "14.09630923156224",
         "14.132209571955704",
         "145242371"
        ],
        [
         "18",
         "2012-01-30 00:00:00",
         "14.303298950195312",
         "14.360493200382944",
         "14.197081598726335",
         "14.312212413708119",
         "93569411"
        ],
        [
         "19",
         "2012-01-31 00:00:00",
         "14.363216400146484",
         "14.459530531830252",
         "14.240409317079227",
         "14.434770595838748",
         "86017210"
        ],
        [
         "20",
         "2012-02-01 00:00:00",
         "14.38104248046875",
         "14.496669108933217",
         "14.33919888317335",
         "14.482803090534992",
         "93175942"
        ],
        [
         "21",
         "2012-02-02 00:00:00",
         "14.487011909484863",
         "14.51919972852264",
         "14.411990741838881",
         "14.4810705492731",
         "96950036"
        ],
        [
         "22",
         "2012-02-03 00:00:00",
         "14.764815330505371",
         "14.783137133408465",
         "14.55980662364521",
         "14.624428758235217",
         "127215053"
        ],
        [
         "23",
         "2012-02-06 00:00:00",
         "15.080745697021484",
         "15.123826485751193",
         "14.707371909077922",
         "14.732131843923524",
         "147735682"
        ],
        [
         "24",
         "2012-02-07 00:00:00",
         "15.023303031921387",
         "15.088173549131595",
         "14.948776737407433",
         "15.032712319082865",
         "83997668"
        ],
        [
         "25",
         "2012-02-08 00:00:00",
         "15.099563598632812",
         "15.136703029890642",
         "14.973043042193407",
         "15.069604615424677",
         "73731331"
        ],
        [
         "26",
         "2012-02-09 00:00:00",
         "15.139424324035645",
         "15.214693880068934",
         "15.07851661074243",
         "15.153290342381169",
         "90927546"
        ],
        [
         "27",
         "2012-02-10 00:00:00",
         "15.002010345458984",
         "15.056975752094205",
         "14.954720262776275",
         "15.050786953334077",
         "93356617"
        ],
        [
         "28",
         "2012-02-13 00:00:00",
         "15.157746315002441",
         "15.198352721757146",
         "15.103771610207763",
         "15.11565622720153",
         "72924318"
        ],
        [
         "29",
         "2012-02-14 00:00:00",
         "15.097333908081055",
         "15.15279513962143",
         "14.973537074915717",
         "15.141406346703455",
         "72418428"
        ],
        [
         "30",
         "2012-02-15 00:00:00",
         "14.9933443069458",
         "15.175821910416394",
         "14.919065449346162",
         "15.175821910416394",
         "97399715"
        ],
        [
         "31",
         "2012-02-16 00:00:00",
         "15.01711368560791",
         "15.073813056113693",
         "14.799478052809247",
         "14.925503725714513",
         "101615457"
        ],
        [
         "32",
         "2012-02-17 00:00:00",
         "14.970565795898438",
         "15.044596267385334",
         "14.915104564819977",
         "14.978735996227222",
         "98331193"
        ],
        [
         "33",
         "2012-02-21 00:00:00",
         "15.202314376831055",
         "15.298381070232075",
         "14.926988666978776",
         "14.951501164754175",
         "99603946"
        ],
        [
         "34",
         "2012-02-22 00:00:00",
         "15.052270889282227",
         "15.271145597117986",
         "15.021817033060318",
         "15.151804553973628",
         "78974912"
        ],
        [
         "35",
         "2012-02-23 00:00:00",
         "15.006961822509766",
         "15.052271451272814",
         "14.864348313108277",
         "15.028998041432375",
         "82508106"
        ],
        [
         "36",
         "2012-02-24 00:00:00",
         "15.100800514221191",
         "15.144129689171635",
         "14.992105945552842",
         "15.037663960217719",
         "77714204"
        ],
        [
         "37",
         "2012-02-27 00:00:00",
         "15.08619213104248",
         "15.161708178198632",
         "14.980964541385875",
         "15.018846284054451",
         "72827958"
        ],
        [
         "38",
         "2012-02-28 00:00:00",
         "15.311007499694824",
         "15.345176722150516",
         "15.045834348776069",
         "15.103276981199706",
         "114330940"
        ],
        [
         "39",
         "2012-02-29 00:00:00",
         "15.30754280090332",
         "15.489524584105446",
         "15.239453688547572",
         "15.316208825827005",
         "125946315"
        ],
        [
         "40",
         "2012-03-01 00:00:00",
         "15.410294532775879",
         "15.492001280200105",
         "15.305066935974205",
         "15.40682850192848",
         "89843498"
        ],
        [
         "41",
         "2012-03-02 00:00:00",
         "15.381820678710938",
         "15.449909790918646",
         "15.3587947064006",
         "15.400389919473561",
         "63167885"
        ],
        [
         "42",
         "2012-03-05 00:00:00",
         "15.208503723144531",
         "15.412521709432626",
         "15.137443462167653",
         "15.361517212860603",
         "63970883"
        ],
        [
         "43",
         "2012-03-06 00:00:00",
         "14.97848892211914",
         "15.073813300493121",
         "14.703163213560543",
         "15.054996621441447",
         "127451937"
        ],
        [
         "44",
         "2012-03-07 00:00:00",
         "15.02404499053955",
         "15.132739556391519",
         "15.000771581466008",
         "15.079753657449794",
         "50769586"
        ],
        [
         "45",
         "2012-03-08 00:00:00",
         "15.032465934753418",
         "15.140417248165503",
         "15.012905044515321",
         "15.104267570189986",
         "54021731"
        ],
        [
         "46",
         "2012-03-09 00:00:00",
         "14.861871719360352",
         "15.150318272536868",
         "14.855681024707682",
         "15.052519517609648",
         "107224403"
        ],
        [
         "47",
         "2012-03-12 00:00:00",
         "14.983193397521973",
         "15.028998853165174",
         "14.837360339740474",
         "14.855682142782126",
         "67010233"
        ],
        [
         "48",
         "2012-03-13 00:00:00",
         "15.295904159545898",
         "15.297638122903601",
         "14.993096706126565",
         "15.072326222654725",
         "90168712"
        ],
        [
         "49",
         "2012-03-14 00:00:00",
         "15.2515869140625",
         "15.419703628655022",
         "15.188945233156732",
         "15.227074416120775",
         "117916329"
        ]
       ],
       "shape": {
        "columns": 6,
        "rows": 2761
       }
      },
      "text/html": [
       "<div>\n",
       "<style scoped>\n",
       "    .dataframe tbody tr th:only-of-type {\n",
       "        vertical-align: middle;\n",
       "    }\n",
       "\n",
       "    .dataframe tbody tr th {\n",
       "        vertical-align: top;\n",
       "    }\n",
       "\n",
       "    .dataframe thead tr th {\n",
       "        text-align: left;\n",
       "    }\n",
       "</style>\n",
       "<table border=\"1\" class=\"dataframe\">\n",
       "  <thead>\n",
       "    <tr>\n",
       "      <th>Price</th>\n",
       "      <th>Date</th>\n",
       "      <th>Close</th>\n",
       "      <th>High</th>\n",
       "      <th>Low</th>\n",
       "      <th>Open</th>\n",
       "      <th>Volume</th>\n",
       "    </tr>\n",
       "    <tr>\n",
       "      <th>Ticker</th>\n",
       "      <th></th>\n",
       "      <th>GOOG</th>\n",
       "      <th>GOOG</th>\n",
       "      <th>GOOG</th>\n",
       "      <th>GOOG</th>\n",
       "      <th>GOOG</th>\n",
       "    </tr>\n",
       "  </thead>\n",
       "  <tbody>\n",
       "    <tr>\n",
       "      <th>0</th>\n",
       "      <td>2012-01-03</td>\n",
       "      <td>16.475199</td>\n",
       "      <td>16.543040</td>\n",
       "      <td>16.152335</td>\n",
       "      <td>16.166449</td>\n",
       "      <td>147611217</td>\n",
       "    </tr>\n",
       "    <tr>\n",
       "      <th>1</th>\n",
       "      <td>2012-01-04</td>\n",
       "      <td>16.546259</td>\n",
       "      <td>16.595036</td>\n",
       "      <td>16.356602</td>\n",
       "      <td>16.465791</td>\n",
       "      <td>114989399</td>\n",
       "    </tr>\n",
       "    <tr>\n",
       "      <th>2</th>\n",
       "      <td>2012-01-05</td>\n",
       "      <td>16.316738</td>\n",
       "      <td>16.439545</td>\n",
       "      <td>16.247907</td>\n",
       "      <td>16.393988</td>\n",
       "      <td>131808205</td>\n",
       "    </tr>\n",
       "    <tr>\n",
       "      <th>3</th>\n",
       "      <td>2012-01-06</td>\n",
       "      <td>16.094151</td>\n",
       "      <td>16.341249</td>\n",
       "      <td>16.088455</td>\n",
       "      <td>16.320203</td>\n",
       "      <td>108119746</td>\n",
       "    </tr>\n",
       "    <tr>\n",
       "      <th>4</th>\n",
       "      <td>2012-01-09</td>\n",
       "      <td>15.411779</td>\n",
       "      <td>16.019378</td>\n",
       "      <td>15.381325</td>\n",
       "      <td>16.006996</td>\n",
       "      <td>233776981</td>\n",
       "    </tr>\n",
       "    <tr>\n",
       "      <th>...</th>\n",
       "      <td>...</td>\n",
       "      <td>...</td>\n",
       "      <td>...</td>\n",
       "      <td>...</td>\n",
       "      <td>...</td>\n",
       "      <td>...</td>\n",
       "    </tr>\n",
       "    <tr>\n",
       "      <th>2756</th>\n",
       "      <td>2022-12-14</td>\n",
       "      <td>94.746811</td>\n",
       "      <td>96.645528</td>\n",
       "      <td>93.384911</td>\n",
       "      <td>94.975455</td>\n",
       "      <td>26452900</td>\n",
       "    </tr>\n",
       "    <tr>\n",
       "      <th>2757</th>\n",
       "      <td>2022-12-15</td>\n",
       "      <td>90.661102</td>\n",
       "      <td>93.474382</td>\n",
       "      <td>89.895656</td>\n",
       "      <td>92.987279</td>\n",
       "      <td>28298800</td>\n",
       "    </tr>\n",
       "    <tr>\n",
       "      <th>2758</th>\n",
       "      <td>2022-12-16</td>\n",
       "      <td>90.323105</td>\n",
       "      <td>91.207845</td>\n",
       "      <td>89.478129</td>\n",
       "      <td>90.661092</td>\n",
       "      <td>48485500</td>\n",
       "    </tr>\n",
       "    <tr>\n",
       "      <th>2759</th>\n",
       "      <td>2022-12-19</td>\n",
       "      <td>88.623207</td>\n",
       "      <td>90.661089</td>\n",
       "      <td>88.399538</td>\n",
       "      <td>90.342980</td>\n",
       "      <td>23020500</td>\n",
       "    </tr>\n",
       "    <tr>\n",
       "      <th>2760</th>\n",
       "      <td>2022-12-20</td>\n",
       "      <td>89.100372</td>\n",
       "      <td>89.249487</td>\n",
       "      <td>87.519771</td>\n",
       "      <td>88.205696</td>\n",
       "      <td>21976800</td>\n",
       "    </tr>\n",
       "  </tbody>\n",
       "</table>\n",
       "<p>2761 rows × 6 columns</p>\n",
       "</div>"
      ],
      "text/plain": [
       "Price        Date      Close       High        Low       Open     Volume\n",
       "Ticker                  GOOG       GOOG       GOOG       GOOG       GOOG\n",
       "0      2012-01-03  16.475199  16.543040  16.152335  16.166449  147611217\n",
       "1      2012-01-04  16.546259  16.595036  16.356602  16.465791  114989399\n",
       "2      2012-01-05  16.316738  16.439545  16.247907  16.393988  131808205\n",
       "3      2012-01-06  16.094151  16.341249  16.088455  16.320203  108119746\n",
       "4      2012-01-09  15.411779  16.019378  15.381325  16.006996  233776981\n",
       "...           ...        ...        ...        ...        ...        ...\n",
       "2756   2022-12-14  94.746811  96.645528  93.384911  94.975455   26452900\n",
       "2757   2022-12-15  90.661102  93.474382  89.895656  92.987279   28298800\n",
       "2758   2022-12-16  90.323105  91.207845  89.478129  90.661092   48485500\n",
       "2759   2022-12-19  88.623207  90.661089  88.399538  90.342980   23020500\n",
       "2760   2022-12-20  89.100372  89.249487  87.519771  88.205696   21976800\n",
       "\n",
       "[2761 rows x 6 columns]"
      ]
     },
     "execution_count": 6,
     "metadata": {},
     "output_type": "execute_result"
    }
   ],
   "source": [
    "data"
   ]
  },
  {
   "cell_type": "code",
   "execution_count": 7,
   "id": "481994a4",
   "metadata": {},
   "outputs": [],
   "source": [
    "# Moving Average of last 100 days\n",
    "\n",
    "ma_100_days= data.Close.rolling(100).mean()"
   ]
  },
  {
   "cell_type": "code",
   "execution_count": 8,
   "id": "b3fd6c85",
   "metadata": {},
   "outputs": [
    {
     "data": {
      "image/png": "[encoded data removed]",
      "text/plain": [
       "<Figure size 800x600 with 1 Axes>"
      ]
     },
     "metadata": {},
     "output_type": "display_data"
    }
   ],
   "source": [
    "plt.figure(figsize=(8,6))\n",
    "plt.plot(ma_100_days, 'r', label='MA 100 days')\n",
    "plt.plot(data.Close, 'g', label='Closing Price')\n",
    "plt.show()"
   ]
  },
  {
   "cell_type": "code",
   "execution_count": 9,
   "id": "f1428853",
   "metadata": {},
   "outputs": [],
   "source": [
    "# Moving Average of last 200 days\n",
    "\n",
    "ma_200_days= data.Close.rolling(200).mean() "
   ]
  },
  {
   "cell_type": "code",
   "execution_count": 10,
   "id": "e8238b6f",
   "metadata": {},
   "outputs": [
    {
     "data": {
      "image/png": "[encoded data removed]",
      "text/plain": [
       "<Figure size 800x600 with 1 Axes>"
      ]
     },
     "metadata": {},
     "output_type": "display_data"
    }
   ],
   "source": [
    "plt.figure(figsize=(8,6))\n",
    "plt.plot(ma_100_days, 'r')\n",
    "plt.plot(ma_200_days, 'b')\n",
    "plt.plot(data.Close, 'g')\n",
    "plt.show()"
   ]
  },
  {
   "cell_type": "code",
   "execution_count": 11,
   "id": "d8d271ff",
   "metadata": {},
   "outputs": [],
   "source": [
    "data.dropna(inplace=True)"
   ]
  },
  {
   "cell_type": "code",
   "execution_count": 12,
   "id": "61e69d54",
   "metadata": {},
   "outputs": [],
   "source": [
    "data_train = pd.DataFrame(data.Close[0:int(len(data)*0.80)])\n",
    "data_test = pd.DataFrame(data.Close[int(len(data)*0.80): len(data)])"
   ]
  },
  {
   "cell_type": "code",
   "execution_count": 13,
   "id": "dd2c6772",
   "metadata": {},
   "outputs": [
    {
     "data": {
      "text/plain": [
       "2208"
      ]
     },
     "execution_count": 13,
     "metadata": {},
     "output_type": "execute_result"
    }
   ],
   "source": [
    "data_train.shape[0]"
   ]
  },
  {
   "cell_type": "code",
   "execution_count": 14,
   "id": "31535fd3",
   "metadata": {},
   "outputs": [
    {
     "data": {
      "text/plain": [
       "553"
      ]
     },
     "execution_count": 14,
     "metadata": {},
     "output_type": "execute_result"
    }
   ],
   "source": [
    "data_test.shape[0]"
   ]
  },
  {
   "cell_type": "code",
   "execution_count": 15,
   "id": "ae4dbaf1",
   "metadata": {},
   "outputs": [],
   "source": [
    "from sklearn.preprocessing import MinMaxScaler\n",
    "scaler = MinMaxScaler(feature_range=(0,1))"
   ]
  },
  {
   "cell_type": "code",
   "execution_count": 16,
   "id": "8052cafc",
   "metadata": {},
   "outputs": [],
   "source": [
    "data_train_scale = scaler.fit_transform(data_train)"
   ]
  },
  {
   "cell_type": "code",
   "execution_count": 19,
   "id": "d0cafa51",
   "metadata": {},
   "outputs": [],
   "source": [
    "x=[]\n",
    "y=[]\n",
    "for i in range(100, data_train.shape[0]):\n",
    "    x.append(data_train_scale[i-100:i])\n",
    "    y.append(data_train_scale[i,0])"
   ]
  },
  {
   "cell_type": "code",
   "execution_count": 20,
   "id": "334d2ebd",
   "metadata": {},
   "outputs": [],
   "source": [
    "x, y = np.array(x), np.array(y)"
   ]
  },
  {
   "cell_type": "code",
   "execution_count": 18,
   "id": "b0d804f4",
   "metadata": {},
   "outputs": [],
   "source": [
    "from keras.layers import Dense, Dropout, LSTM\n",
    "from keras.models import Sequential"
   ]
  },
  {
   "cell_type": "code",
   "execution_count": 21,
   "id": "98d014f0",
   "metadata": {},
   "outputs": [
    {
     "name": "stderr",
     "output_type": "stream",
     "text": [
      "C:\\Users\\DELL\\AppData\\Local\\Packages\\PythonSoftwareFoundation.Python.3.13_qbz5n2kfra8p0\\LocalCache\\local-packages\\Python313\\site-packages\\keras\\src\\layers\\rnn\\rnn.py:199: UserWarning: Do not pass an `input_shape`/`input_dim` argument to a layer. When using Sequential models, prefer using an `Input(shape)` object as the first layer in the model instead.\n",
      "  super().__init__(**kwargs)\n"
     ]
    }
   ],
   "source": [
    "model = Sequential()\n",
    "model.add(LSTM(units=50, activation='relu', return_sequences=True, input_shape=(x.shape[1],1)))\n",
    "model.add(Dropout(0.2))\n",
    "\n",
    "model.add(LSTM(units=60, activation='relu', return_sequences=True))\n",
    "model.add(Dropout(0.3))\n",
    "\n",
    "model.add(LSTM(units=80, activation='relu', return_sequences=True))\n",
    "model.add(Dropout(0.4))\n",
    "\n",
    "model.add(LSTM(units=120, activation='relu'))\n",
    "model.add(Dropout(0.5))\n",
    "\n",
    "model.add(Dense(units=1))\n"
   ]
  },
  {
   "cell_type": "code",
   "execution_count": 22,
   "id": "4400ba96",
   "metadata": {},
   "outputs": [],
   "source": [
    "model.compile(optimizer='adam', loss='mean_squared_error')"
   ]
  },
  {
   "cell_type": "code",
   "execution_count": 25,
   "id": "59d7998d",
   "metadata": {},
   "outputs": [
    {
     "name": "stdout",
     "output_type": "stream",
     "text": [
      "Epoch 1/50\n",
      "\u001b[1m66/66\u001b[0m \u001b[32m━━━━━━━━━━━━━━━━━━━━\u001b[0m\u001b[37m\u001b[0m \u001b[1m10s\u001b[0m 99ms/step - loss: 0.0400\n",
      "Epoch 2/50\n",
      "\u001b[1m66/66\u001b[0m \u001b[32m━━━━━━━━━━━━━━━━━━━━\u001b[0m\u001b[37m\u001b[0m \u001b[1m8s\u001b[0m 114ms/step - loss: 0.0063\n",
      "Epoch 3/50\n",
      "\u001b[1m66/66\u001b[0m \u001b[32m━━━━━━━━━━━━━━━━━━━━\u001b[0m\u001b[37m\u001b[0m \u001b[1m8s\u001b[0m 116ms/step - loss: 0.0064\n",
      "Epoch 4/50\n",
      "\u001b[1m66/66\u001b[0m \u001b[32m━━━━━━━━━━━━━━━━━━━━\u001b[0m\u001b[37m\u001b[0m \u001b[1m8s\u001b[0m 114ms/step - loss: 0.0057\n",
      "Epoch 5/50\n",
      "\u001b[1m66/66\u001b[0m \u001b[32m━━━━━━━━━━━━━━━━━━━━\u001b[0m\u001b[37m\u001b[0m \u001b[1m8s\u001b[0m 121ms/step - loss: 0.0056\n",
      "Epoch 6/50\n",
      "\u001b[1m66/66\u001b[0m \u001b[32m━━━━━━━━━━━━━━━━━━━━\u001b[0m\u001b[37m\u001b[0m \u001b[1m8s\u001b[0m 119ms/step - loss: 0.0045\n",
      "Epoch 7/50\n",
      "\u001b[1m66/66\u001b[0m \u001b[32m━━━━━━━━━━━━━━━━━━━━\u001b[0m\u001b[37m\u001b[0m \u001b[1m8s\u001b[0m 122ms/step - loss: 0.0047\n",
      "Epoch 8/50\n",
      "\u001b[1m66/66\u001b[0m \u001b[32m━━━━━━━━━━━━━━━━━━━━\u001b[0m\u001b[37m\u001b[0m \u001b[1m8s\u001b[0m 121ms/step - loss: 0.0041\n",
      "Epoch 9/50\n",
      "\u001b[1m66/66\u001b[0m \u001b[32m━━━━━━━━━━━━━━━━━━━━\u001b[0m\u001b[37m\u001b[0m \u001b[1m8s\u001b[0m 122ms/step - loss: 0.0038\n",
      "Epoch 10/50\n",
      "\u001b[1m66/66\u001b[0m \u001b[32m━━━━━━━━━━━━━━━━━━━━\u001b[0m\u001b[37m\u001b[0m \u001b[1m8s\u001b[0m 122ms/step - loss: 0.0036\n",
      "Epoch 11/50\n",
      "\u001b[1m66/66\u001b[0m \u001b[32m━━━━━━━━━━━━━━━━━━━━\u001b[0m\u001b[37m\u001b[0m \u001b[1m8s\u001b[0m 123ms/step - loss: 0.0041\n",
      "Epoch 12/50\n",
      "\u001b[1m66/66\u001b[0m \u001b[32m━━━━━━━━━━━━━━━━━━━━\u001b[0m\u001b[37m\u001b[0m \u001b[1m8s\u001b[0m 127ms/step - loss: 0.0037\n",
      "Epoch 13/50\n",
      "\u001b[1m66/66\u001b[0m \u001b[32m━━━━━━━━━━━━━━━━━━━━\u001b[0m\u001b[37m\u001b[0m \u001b[1m9s\u001b[0m 129ms/step - loss: 0.0039\n",
      "Epoch 14/50\n",
      "\u001b[1m66/66\u001b[0m \u001b[32m━━━━━━━━━━━━━━━━━━━━\u001b[0m\u001b[37m\u001b[0m \u001b[1m8s\u001b[0m 126ms/step - loss: 0.0037\n",
      "Epoch 15/50\n",
      "\u001b[1m66/66\u001b[0m \u001b[32m━━━━━━━━━━━━━━━━━━━━\u001b[0m\u001b[37m\u001b[0m \u001b[1m8s\u001b[0m 124ms/step - loss: 0.0032\n",
      "Epoch 16/50\n",
      "\u001b[1m66/66\u001b[0m \u001b[32m━━━━━━━━━━━━━━━━━━━━\u001b[0m\u001b[37m\u001b[0m \u001b[1m8s\u001b[0m 128ms/step - loss: 0.0033\n",
      "Epoch 17/50\n",
      "\u001b[1m66/66\u001b[0m \u001b[32m━━━━━━━━━━━━━━━━━━━━\u001b[0m\u001b[37m\u001b[0m \u001b[1m9s\u001b[0m 130ms/step - loss: 0.0032\n",
      "Epoch 18/50\n",
      "\u001b[1m66/66\u001b[0m \u001b[32m━━━━━━━━━━━━━━━━━━━━\u001b[0m\u001b[37m\u001b[0m \u001b[1m9s\u001b[0m 130ms/step - loss: 0.0029\n",
      "Epoch 19/50\n",
      "\u001b[1m66/66\u001b[0m \u001b[32m━━━━━━━━━━━━━━━━━━━━\u001b[0m\u001b[37m\u001b[0m \u001b[1m9s\u001b[0m 134ms/step - loss: 0.0028\n",
      "Epoch 20/50\n",
      "\u001b[1m66/66\u001b[0m \u001b[32m━━━━━━━━━━━━━━━━━━━━\u001b[0m\u001b[37m\u001b[0m \u001b[1m9s\u001b[0m 132ms/step - loss: 0.0030\n",
      "Epoch 21/50\n",
      "\u001b[1m66/66\u001b[0m \u001b[32m━━━━━━━━━━━━━━━━━━━━\u001b[0m\u001b[37m\u001b[0m \u001b[1m9s\u001b[0m 136ms/step - loss: 0.0026\n",
      "Epoch 22/50\n",
      "\u001b[1m66/66\u001b[0m \u001b[32m━━━━━━━━━━━━━━━━━━━━\u001b[0m\u001b[37m\u001b[0m \u001b[1m9s\u001b[0m 143ms/step - loss: 0.0028\n",
      "Epoch 23/50\n",
      "\u001b[1m66/66\u001b[0m \u001b[32m━━━━━━━━━━━━━━━━━━━━\u001b[0m\u001b[37m\u001b[0m \u001b[1m10s\u001b[0m 131ms/step - loss: 0.0028\n",
      "Epoch 24/50\n",
      "\u001b[1m66/66\u001b[0m \u001b[32m━━━━━━━━━━━━━━━━━━━━\u001b[0m\u001b[37m\u001b[0m \u001b[1m9s\u001b[0m 129ms/step - loss: 0.0024\n",
      "Epoch 25/50\n",
      "\u001b[1m66/66\u001b[0m \u001b[32m━━━━━━━━━━━━━━━━━━━━\u001b[0m\u001b[37m\u001b[0m \u001b[1m9s\u001b[0m 131ms/step - loss: 0.0024\n",
      "Epoch 26/50\n",
      "\u001b[1m66/66\u001b[0m \u001b[32m━━━━━━━━━━━━━━━━━━━━\u001b[0m\u001b[37m\u001b[0m \u001b[1m9s\u001b[0m 132ms/step - loss: 0.0025\n",
      "Epoch 27/50\n",
      "\u001b[1m66/66\u001b[0m \u001b[32m━━━━━━━━━━━━━━━━━━━━\u001b[0m\u001b[37m\u001b[0m \u001b[1m9s\u001b[0m 131ms/step - loss: 0.0023\n",
      "Epoch 28/50\n",
      "\u001b[1m66/66\u001b[0m \u001b[32m━━━━━━━━━━━━━━━━━━━━\u001b[0m\u001b[37m\u001b[0m \u001b[1m8s\u001b[0m 128ms/step - loss: 0.0026\n",
      "Epoch 29/50\n",
      "\u001b[1m66/66\u001b[0m \u001b[32m━━━━━━━━━━━━━━━━━━━━\u001b[0m\u001b[37m\u001b[0m \u001b[1m9s\u001b[0m 128ms/step - loss: 0.0026\n",
      "Epoch 30/50\n",
      "\u001b[1m66/66\u001b[0m \u001b[32m━━━━━━━━━━━━━━━━━━━━\u001b[0m\u001b[37m\u001b[0m \u001b[1m9s\u001b[0m 131ms/step - loss: 0.0024\n",
      "Epoch 31/50\n",
      "\u001b[1m66/66\u001b[0m \u001b[32m━━━━━━━━━━━━━━━━━━━━\u001b[0m\u001b[37m\u001b[0m \u001b[1m9s\u001b[0m 142ms/step - loss: 0.0022\n",
      "Epoch 32/50\n",
      "\u001b[1m66/66\u001b[0m \u001b[32m━━━━━━━━━━━━━━━━━━━━\u001b[0m\u001b[37m\u001b[0m \u001b[1m9s\u001b[0m 139ms/step - loss: 0.0021\n",
      "Epoch 33/50\n",
      "\u001b[1m66/66\u001b[0m \u001b[32m━━━━━━━━━━━━━━━━━━━━\u001b[0m\u001b[37m\u001b[0m \u001b[1m9s\u001b[0m 133ms/step - loss: 0.0023\n",
      "Epoch 34/50\n",
      "\u001b[1m66/66\u001b[0m \u001b[32m━━━━━━━━━━━━━━━━━━━━\u001b[0m\u001b[37m\u001b[0m \u001b[1m9s\u001b[0m 135ms/step - loss: 0.0020\n",
      "Epoch 35/50\n",
      "\u001b[1m66/66\u001b[0m \u001b[32m━━━━━━━━━━━━━━━━━━━━\u001b[0m\u001b[37m\u001b[0m \u001b[1m9s\u001b[0m 133ms/step - loss: 0.0021\n",
      "Epoch 36/50\n",
      "\u001b[1m66/66\u001b[0m \u001b[32m━━━━━━━━━━━━━━━━━━━━\u001b[0m\u001b[37m\u001b[0m \u001b[1m9s\u001b[0m 135ms/step - loss: 0.0020\n",
      "Epoch 37/50\n",
      "\u001b[1m66/66\u001b[0m \u001b[32m━━━━━━━━━━━━━━━━━━━━\u001b[0m\u001b[37m\u001b[0m \u001b[1m9s\u001b[0m 134ms/step - loss: 0.0020\n",
      "Epoch 38/50\n",
      "\u001b[1m66/66\u001b[0m \u001b[32m━━━━━━━━━━━━━━━━━━━━\u001b[0m\u001b[37m\u001b[0m \u001b[1m9s\u001b[0m 136ms/step - loss: 0.0019\n",
      "Epoch 39/50\n",
      "\u001b[1m66/66\u001b[0m \u001b[32m━━━━━━━━━━━━━━━━━━━━\u001b[0m\u001b[37m\u001b[0m \u001b[1m9s\u001b[0m 132ms/step - loss: 0.0020\n",
      "Epoch 40/50\n",
      "\u001b[1m66/66\u001b[0m \u001b[32m━━━━━━━━━━━━━━━━━━━━\u001b[0m\u001b[37m\u001b[0m \u001b[1m8s\u001b[0m 123ms/step - loss: 0.0019\n",
      "Epoch 41/50\n",
      "\u001b[1m66/66\u001b[0m \u001b[32m━━━━━━━━━━━━━━━━━━━━\u001b[0m\u001b[37m\u001b[0m \u001b[1m8s\u001b[0m 121ms/step - loss: 0.0020\n",
      "Epoch 42/50\n",
      "\u001b[1m66/66\u001b[0m \u001b[32m━━━━━━━━━━━━━━━━━━━━\u001b[0m\u001b[37m\u001b[0m \u001b[1m8s\u001b[0m 121ms/step - loss: 0.0020\n",
      "Epoch 43/50\n",
      "\u001b[1m66/66\u001b[0m \u001b[32m━━━━━━━━━━━━━━━━━━━━\u001b[0m\u001b[37m\u001b[0m \u001b[1m8s\u001b[0m 122ms/step - loss: 0.0017\n",
      "Epoch 44/50\n",
      "\u001b[1m66/66\u001b[0m \u001b[32m━━━━━━━━━━━━━━━━━━━━\u001b[0m\u001b[37m\u001b[0m \u001b[1m8s\u001b[0m 124ms/step - loss: 0.0021\n",
      "Epoch 45/50\n",
      "\u001b[1m66/66\u001b[0m \u001b[32m━━━━━━━━━━━━━━━━━━━━\u001b[0m\u001b[37m\u001b[0m \u001b[1m8s\u001b[0m 125ms/step - loss: 0.0021\n",
      "Epoch 46/50\n",
      "\u001b[1m66/66\u001b[0m \u001b[32m━━━━━━━━━━━━━━━━━━━━\u001b[0m\u001b[37m\u001b[0m \u001b[1m8s\u001b[0m 121ms/step - loss: 0.0019\n",
      "Epoch 47/50\n",
      "\u001b[1m66/66\u001b[0m \u001b[32m━━━━━━━━━━━━━━━━━━━━\u001b[0m\u001b[37m\u001b[0m \u001b[1m8s\u001b[0m 122ms/step - loss: 0.0019\n",
      "Epoch 48/50\n",
      "\u001b[1m66/66\u001b[0m \u001b[32m━━━━━━━━━━━━━━━━━━━━\u001b[0m\u001b[37m\u001b[0m \u001b[1m8s\u001b[0m 124ms/step - loss: 0.0019\n",
      "Epoch 49/50\n",
      "\u001b[1m66/66\u001b[0m \u001b[32m━━━━━━━━━━━━━━━━━━━━\u001b[0m\u001b[37m\u001b[0m \u001b[1m8s\u001b[0m 125ms/step - loss: 0.0018\n",
      "Epoch 50/50\n",
      "\u001b[1m66/66\u001b[0m \u001b[32m━━━━━━━━━━━━━━━━━━━━\u001b[0m\u001b[37m\u001b[0m \u001b[1m8s\u001b[0m 120ms/step - loss: 0.0017\n"
     ]
    },
    {
     "data": {
      "text/plain": [
       "<keras.src.callbacks.history.History at 0x2076a37dfd0>"
      ]
     },
     "execution_count": 25,
     "metadata": {},
     "output_type": "execute_result"
    }
   ],
   "source": [
    "model.fit(x, y, epochs = 50 , batch_size=32 , verbose=1 )"
   ]
  },
  {
   "cell_type": "code",
   "execution_count": 26,
   "id": "3eaba356",
   "metadata": {},
   "outputs": [
    {
     "data": {
      "text/html": [
       "<pre style=\"white-space:pre;overflow-x:auto;line-height:normal;font-family:Menlo,'DejaVu Sans Mono',consolas,'Courier New',monospace\"><span style=\"font-weight: bold\">Model: \"sequential\"</span>\n",
       "</pre>\n"
      ],
      "text/plain": [
       "\u001b[1mModel: \"sequential\"\u001b[0m\n"
      ]
     },
     "metadata": {},
     "output_type": "display_data"
    },
    {
     "data": {
      "text/html": [
       "<pre style=\"white-space:pre;overflow-x:auto;line-height:normal;font-family:Menlo,'DejaVu Sans Mono',consolas,'Courier New',monospace\">┏━━━━━━━━━━━━━━━━━━━━━━━━━━━━━━━━━┳━━━━━━━━━━━━━━━━━━━━━━━━┳━━━━━━━━━━━━━━━┓\n",
       "┃<span style=\"font-weight: bold\"> Layer (type)                    </span>┃<span style=\"font-weight: bold\"> Output Shape           </span>┃<span style=\"font-weight: bold\">       Param # </span>┃\n",
       "┡━━━━━━━━━━━━━━━━━━━━━━━━━━━━━━━━━╇━━━━━━━━━━━━━━━━━━━━━━━━╇━━━━━━━━━━━━━━━┩\n",
       "│ lstm (<span style=\"color: #0087ff; text-decoration-color: #0087ff\">LSTM</span>)                     │ (<span style=\"color: #00d7ff; text-decoration-color: #00d7ff\">None</span>, <span style=\"color: #00af00; text-decoration-color: #00af00\">100</span>, <span style=\"color: #00af00; text-decoration-color: #00af00\">50</span>)        │        <span style=\"color: #00af00; text-decoration-color: #00af00\">10,400</span> │\n",
       "├─────────────────────────────────┼────────────────────────┼───────────────┤\n",
       "│ dropout (<span style=\"color: #0087ff; text-decoration-color: #0087ff\">Dropout</span>)               │ (<span style=\"color: #00d7ff; text-decoration-color: #00d7ff\">None</span>, <span style=\"color: #00af00; text-decoration-color: #00af00\">100</span>, <span style=\"color: #00af00; text-decoration-color: #00af00\">50</span>)        │             <span style=\"color: #00af00; text-decoration-color: #00af00\">0</span> │\n",
       "├─────────────────────────────────┼────────────────────────┼───────────────┤\n",
       "│ lstm_1 (<span style=\"color: #0087ff; text-decoration-color: #0087ff\">LSTM</span>)                   │ (<span style=\"color: #00d7ff; text-decoration-color: #00d7ff\">None</span>, <span style=\"color: #00af00; text-decoration-color: #00af00\">100</span>, <span style=\"color: #00af00; text-decoration-color: #00af00\">60</span>)        │        <span style=\"color: #00af00; text-decoration-color: #00af00\">26,640</span> │\n",
       "├─────────────────────────────────┼────────────────────────┼───────────────┤\n",
       "│ dropout_1 (<span style=\"color: #0087ff; text-decoration-color: #0087ff\">Dropout</span>)             │ (<span style=\"color: #00d7ff; text-decoration-color: #00d7ff\">None</span>, <span style=\"color: #00af00; text-decoration-color: #00af00\">100</span>, <span style=\"color: #00af00; text-decoration-color: #00af00\">60</span>)        │             <span style=\"color: #00af00; text-decoration-color: #00af00\">0</span> │\n",
       "├─────────────────────────────────┼────────────────────────┼───────────────┤\n",
       "│ lstm_2 (<span style=\"color: #0087ff; text-decoration-color: #0087ff\">LSTM</span>)                   │ (<span style=\"color: #00d7ff; text-decoration-color: #00d7ff\">None</span>, <span style=\"color: #00af00; text-decoration-color: #00af00\">100</span>, <span style=\"color: #00af00; text-decoration-color: #00af00\">80</span>)        │        <span style=\"color: #00af00; text-decoration-color: #00af00\">45,120</span> │\n",
       "├─────────────────────────────────┼────────────────────────┼───────────────┤\n",
       "│ dropout_2 (<span style=\"color: #0087ff; text-decoration-color: #0087ff\">Dropout</span>)             │ (<span style=\"color: #00d7ff; text-decoration-color: #00d7ff\">None</span>, <span style=\"color: #00af00; text-decoration-color: #00af00\">100</span>, <span style=\"color: #00af00; text-decoration-color: #00af00\">80</span>)        │             <span style=\"color: #00af00; text-decoration-color: #00af00\">0</span> │\n",
       "├─────────────────────────────────┼────────────────────────┼───────────────┤\n",
       "│ lstm_3 (<span style=\"color: #0087ff; text-decoration-color: #0087ff\">LSTM</span>)                   │ (<span style=\"color: #00d7ff; text-decoration-color: #00d7ff\">None</span>, <span style=\"color: #00af00; text-decoration-color: #00af00\">120</span>)            │        <span style=\"color: #00af00; text-decoration-color: #00af00\">96,480</span> │\n",
       "├─────────────────────────────────┼────────────────────────┼───────────────┤\n",
       "│ dropout_3 (<span style=\"color: #0087ff; text-decoration-color: #0087ff\">Dropout</span>)             │ (<span style=\"color: #00d7ff; text-decoration-color: #00d7ff\">None</span>, <span style=\"color: #00af00; text-decoration-color: #00af00\">120</span>)            │             <span style=\"color: #00af00; text-decoration-color: #00af00\">0</span> │\n",
       "├─────────────────────────────────┼────────────────────────┼───────────────┤\n",
       "│ dense (<span style=\"color: #0087ff; text-decoration-color: #0087ff\">Dense</span>)                   │ (<span style=\"color: #00d7ff; text-decoration-color: #00d7ff\">None</span>, <span style=\"color: #00af00; text-decoration-color: #00af00\">1</span>)              │           <span style=\"color: #00af00; text-decoration-color: #00af00\">121</span> │\n",
       "└─────────────────────────────────┴────────────────────────┴───────────────┘\n",
       "</pre>\n"
      ],
      "text/plain": [
       "┏━━━━━━━━━━━━━━━━━━━━━━━━━━━━━━━━━┳━━━━━━━━━━━━━━━━━━━━━━━━┳━━━━━━━━━━━━━━━┓\n",
       "┃\u001b[1m \u001b[0m\u001b[1mLayer (type)                   \u001b[0m\u001b[1m \u001b[0m┃\u001b[1m \u001b[0m\u001b[1mOutput Shape          \u001b[0m\u001b[1m \u001b[0m┃\u001b[1m \u001b[0m\u001b[1m      Param #\u001b[0m\u001b[1m \u001b[0m┃\n",
       "┡━━━━━━━━━━━━━━━━━━━━━━━━━━━━━━━━━╇━━━━━━━━━━━━━━━━━━━━━━━━╇━━━━━━━━━━━━━━━┩\n",
       "│ lstm (\u001b[38;5;33mLSTM\u001b[0m)                     │ (\u001b[38;5;45mNone\u001b[0m, \u001b[38;5;34m100\u001b[0m, \u001b[38;5;34m50\u001b[0m)        │        \u001b[38;5;34m10,400\u001b[0m │\n",
       "├─────────────────────────────────┼────────────────────────┼───────────────┤\n",
       "│ dropout (\u001b[38;5;33mDropout\u001b[0m)               │ (\u001b[38;5;45mNone\u001b[0m, \u001b[38;5;34m100\u001b[0m, \u001b[38;5;34m50\u001b[0m)        │             \u001b[38;5;34m0\u001b[0m │\n",
       "├─────────────────────────────────┼────────────────────────┼───────────────┤\n",
       "│ lstm_1 (\u001b[38;5;33mLSTM\u001b[0m)                   │ (\u001b[38;5;45mNone\u001b[0m, \u001b[38;5;34m100\u001b[0m, \u001b[38;5;34m60\u001b[0m)        │        \u001b[38;5;34m26,640\u001b[0m │\n",
       "├─────────────────────────────────┼────────────────────────┼───────────────┤\n",
       "│ dropout_1 (\u001b[38;5;33mDropout\u001b[0m)             │ (\u001b[38;5;45mNone\u001b[0m, \u001b[38;5;34m100\u001b[0m, \u001b[38;5;34m60\u001b[0m)        │             \u001b[38;5;34m0\u001b[0m │\n",
       "├─────────────────────────────────┼────────────────────────┼───────────────┤\n",
       "│ lstm_2 (\u001b[38;5;33mLSTM\u001b[0m)                   │ (\u001b[38;5;45mNone\u001b[0m, \u001b[38;5;34m100\u001b[0m, \u001b[38;5;34m80\u001b[0m)        │        \u001b[38;5;34m45,120\u001b[0m │\n",
       "├─────────────────────────────────┼────────────────────────┼───────────────┤\n",
       "│ dropout_2 (\u001b[38;5;33mDropout\u001b[0m)             │ (\u001b[38;5;45mNone\u001b[0m, \u001b[38;5;34m100\u001b[0m, \u001b[38;5;34m80\u001b[0m)        │             \u001b[38;5;34m0\u001b[0m │\n",
       "├─────────────────────────────────┼────────────────────────┼───────────────┤\n",
       "│ lstm_3 (\u001b[38;5;33mLSTM\u001b[0m)                   │ (\u001b[38;5;45mNone\u001b[0m, \u001b[38;5;34m120\u001b[0m)            │        \u001b[38;5;34m96,480\u001b[0m │\n",
       "├─────────────────────────────────┼────────────────────────┼───────────────┤\n",
       "│ dropout_3 (\u001b[38;5;33mDropout\u001b[0m)             │ (\u001b[38;5;45mNone\u001b[0m, \u001b[38;5;34m120\u001b[0m)            │             \u001b[38;5;34m0\u001b[0m │\n",
       "├─────────────────────────────────┼────────────────────────┼───────────────┤\n",
       "│ dense (\u001b[38;5;33mDense\u001b[0m)                   │ (\u001b[38;5;45mNone\u001b[0m, \u001b[38;5;34m1\u001b[0m)              │           \u001b[38;5;34m121\u001b[0m │\n",
       "└─────────────────────────────────┴────────────────────────┴───────────────┘\n"
      ]
     },
     "metadata": {},
     "output_type": "display_data"
    },
    {
     "data": {
      "text/html": [
       "<pre style=\"white-space:pre;overflow-x:auto;line-height:normal;font-family:Menlo,'DejaVu Sans Mono',consolas,'Courier New',monospace\"><span style=\"font-weight: bold\"> Total params: </span><span style=\"color: #00af00; text-decoration-color: #00af00\">536,285</span> (2.05 MB)\n",
       "</pre>\n"
      ],
      "text/plain": [
       "\u001b[1m Total params: \u001b[0m\u001b[38;5;34m536,285\u001b[0m (2.05 MB)\n"
      ]
     },
     "metadata": {},
     "output_type": "display_data"
    },
    {
     "data": {
      "text/html": [
       "<pre style=\"white-space:pre;overflow-x:auto;line-height:normal;font-family:Menlo,'DejaVu Sans Mono',consolas,'Courier New',monospace\"><span style=\"font-weight: bold\"> Trainable params: </span><span style=\"color: #00af00; text-decoration-color: #00af00\">178,761</span> (698.29 KB)\n",
       "</pre>\n"
      ],
      "text/plain": [
       "\u001b[1m Trainable params: \u001b[0m\u001b[38;5;34m178,761\u001b[0m (698.29 KB)\n"
      ]
     },
     "metadata": {},
     "output_type": "display_data"
    },
    {
     "data": {
      "text/html": [
       "<pre style=\"white-space:pre;overflow-x:auto;line-height:normal;font-family:Menlo,'DejaVu Sans Mono',consolas,'Courier New',monospace\"><span style=\"font-weight: bold\"> Non-trainable params: </span><span style=\"color: #00af00; text-decoration-color: #00af00\">0</span> (0.00 B)\n",
       "</pre>\n"
      ],
      "text/plain": [
       "\u001b[1m Non-trainable params: \u001b[0m\u001b[38;5;34m0\u001b[0m (0.00 B)\n"
      ]
     },
     "metadata": {},
     "output_type": "display_data"
    },
    {
     "data": {
      "text/html": [
       "<pre style=\"white-space:pre;overflow-x:auto;line-height:normal;font-family:Menlo,'DejaVu Sans Mono',consolas,'Courier New',monospace\"><span style=\"font-weight: bold\"> Optimizer params: </span><span style=\"color: #00af00; text-decoration-color: #00af00\">357,524</span> (1.36 MB)\n",
       "</pre>\n"
      ],
      "text/plain": [
       "\u001b[1m Optimizer params: \u001b[0m\u001b[38;5;34m357,524\u001b[0m (1.36 MB)\n"
      ]
     },
     "metadata": {},
     "output_type": "display_data"
    }
   ],
   "source": [
    "model.summary()"
   ]
  },
  {
   "cell_type": "code",
   "execution_count": null,
   "id": "d5aaf914",
   "metadata": {},
   "outputs": [],
   "source": []
  }
 ],
 "metadata": {
  "kernelspec": {
   "display_name": "Python 3",
   "language": "python",
   "name": "python3"
  },
  "language_info": {
   "codemirror_mode": {
    "name": "ipython",
    "version": 3
   },
   "file_extension": ".py",
   "mimetype": "text/x-python",
   "name": "python",
   "nbconvert_exporter": "python",
   "pygments_lexer": "ipython3",
   "version": "3.13.7"
  }
 },
 "nbformat": 4,
 "nbformat_minor": 5
}
